{
  "cells": [
    {
      "cell_type": "markdown",
      "metadata": {
        "id": "view-in-github",
        "colab_type": "text"
      },
      "source": [
        "<a href=\"https://colab.research.google.com/github/phiamorton/Stat-Mech-Project/blob/main/StatMechFinalProject.ipynb\" target=\"_parent\"><img src=\"https://colab.research.google.com/assets/colab-badge.svg\" alt=\"Open In Colab\"/></a>"
      ]
    },
    {
      "cell_type": "code",
      "execution_count": 1,
      "id": "dc7f8bd5-d057-4a3c-b404-a02e5c3b9ba5",
      "metadata": {
        "id": "dc7f8bd5-d057-4a3c-b404-a02e5c3b9ba5"
      },
      "outputs": [],
      "source": [
        "import numpy as np\n",
        "import matplotlib.pyplot as plt\n",
        "import time\n",
        "\n",
        "import matplotlib.animation as animation"
      ]
    },
    {
      "cell_type": "code",
      "execution_count": null,
      "id": "5783e1db-f390-4ef1-9ca0-6bf5ae4e8695",
      "metadata": {
        "id": "5783e1db-f390-4ef1-9ca0-6bf5ae4e8695"
      },
      "outputs": [],
      "source": []
    },
    {
      "cell_type": "markdown",
      "id": "84bb0c26-e33b-424e-a755-ee0a0112fe23",
      "metadata": {
        "id": "84bb0c26-e33b-424e-a755-ee0a0112fe23"
      },
      "source": [
        "#2D Ising Model\n",
        "The partition function for the Ising model\n",
        "$$Z = \\sum_{\\{s_i = \\pm 1\\}} {\\rm exp} \\left\\{K \\sum_{\\langle i j \\rangle} s_i s_j  + h \\sum_i s_i\\right\\}$$\n",
        "**We will assume periodic boundary conditions and indices i,j indicate a 2D position.**\n",
        "\n"
      ]
    },
    {
      "cell_type": "markdown",
      "id": "ebda3982-58c9-40a1-9a71-d050d978a3db",
      "metadata": {
        "id": "ebda3982-58c9-40a1-9a71-d050d978a3db"
      },
      "source": [
        "The Boltzmann weight is\n",
        "$${\\rm exp} \\left\\{K \\sum_{\\langle i j \\rangle} s_i s_j  + h \\sum_i s_i\\right\\}$$\n",
        "where the input `spins` will be a lattice of -1 and +1's."
      ]
    },
    {
      "cell_type": "code",
      "execution_count": 2,
      "id": "a4286045-1d92-454c-8817-8037a32b7077",
      "metadata": {
        "id": "a4286045-1d92-454c-8817-8037a32b7077",
        "outputId": "29c161f6-e603-4a9e-cd36-5ec338d2d77e",
        "colab": {
          "base_uri": "https://localhost:8080/"
        }
      },
      "outputs": [
        {
          "output_type": "stream",
          "name": "stdout",
          "text": [
            "583461742527454.9\n"
          ]
        }
      ],
      "source": [
        "def BoltzmannWeight(spins, K, h):\n",
        "    sum=0\n",
        "    #assumes non periodic boundary conditions, should be fine to ignore in the large N limit\n",
        "    for i in range(len(spins)): #assumes spins is NxN matrix\n",
        "      for j in range(len(spins)):\n",
        "        if i == (len(spins)-1):\n",
        "          #sum+=((K*spins[len(spins)-1][j]*spins[0][j])) #periodic boundary conditions\n",
        "          sum+=((h*spins[len(spins)-1][j]))\n",
        "          #print(len(spins)-1,j, )\n",
        "          #print(spins[len(spins)-1][j])\n",
        "        if j == (len(spins)-1) and i != (len(spins)-1):\n",
        "          #sum+=((K*spins[i][len(spins)-1]*spins[i][0])) #periodic boundary conditions\n",
        "          sum+=((h*spins[i][len(spins)-1]))\n",
        "          #print(spins[i][len(spins)-1])\n",
        "        if i< len(spins)-1 and j<len(spins)-1:\n",
        "          #print(i,j)\n",
        "          sum+=((K*spins[i][j]*spins[i+1][j]))\n",
        "          sum+=((K*spins[i][j]*spins[i][j+1]))\n",
        "          #sum+=((K*spins[i][j]*spins[i-1][j]))\n",
        "          #sum+=((K*spins[i][j]*spins[i][j-1]))\n",
        "          sum+=((h*spins[i][j]))\n",
        "          #print(sum)\n",
        "    #print(sum)\n",
        "    BW=np.exp(sum)\n",
        "    return BW\n",
        "\n",
        "#here I make N large enough that the boundaries do not matter so it is ok that the edges are not included in this weight\n",
        "spins_test= np.ones([4,4])\n",
        "#print(range(len((spins_test))))\n",
        "#print(len(spins_test))\n",
        "print(BoltzmannWeight(spins_test,1, 1))\n",
        "#print('')"
      ]
    },
    {
      "cell_type": "code",
      "source": [],
      "metadata": {
        "id": "jFLDLMxQBMft"
      },
      "id": "jFLDLMxQBMft",
      "execution_count": null,
      "outputs": []
    },
    {
      "cell_type": "markdown",
      "source": [
        "Here I will generate samples (lattices with up and down \"spins\"). I want multiple numbers of samples and can hopefully find a way to average them. Each sample is an nxn lattice wihtout periodic boundary conditions.\n"
      ],
      "metadata": {
        "id": "tDIwcwE_W8Hw"
      },
      "id": "tDIwcwE_W8Hw"
    },
    {
      "cell_type": "code",
      "execution_count": null,
      "id": "97bb2416-94b6-49d8-919c-0a0cca6fcc65",
      "metadata": {
        "id": "97bb2416-94b6-49d8-919c-0a0cca6fcc65",
        "outputId": "74dabd4d-ea11-48d4-e367-f9f416a0ee3e",
        "colab": {
          "base_uri": "https://localhost:8080/"
        }
      },
      "outputs": [
        {
          "output_type": "stream",
          "name": "stderr",
          "text": [
            "<ipython-input-3-1dc1fe29303f>:24: RuntimeWarning: overflow encountered in exp\n",
            "  BW=np.exp(sum)\n",
            "<ipython-input-4-041b58d4962f>:22: RuntimeWarning: invalid value encountered in scalar divide\n",
            "  A= BoltzmannWeight(pos_flip, K, h)/BoltzmannWeight(spin_start, K, h)\n"
          ]
        }
      ],
      "source": [
        "def genSamples(num_samples, K, h):\n",
        "    # number of sites in our 1D ising model\n",
        "    N_lattice = 100\n",
        "    samples = np.zeros((num_samples, N_lattice, N_lattice)) # where you will store your samples\n",
        "\n",
        "    for i in range((num_samples)):\n",
        "      if i==0:\n",
        "        #creat the lattice at \"time step 1\"\n",
        "        spin_start= np.ones([N_lattice, N_lattice])\n",
        "        samples[0]= spin_start\n",
        "      if i>0:\n",
        "        #samples[i]=samples[i-1]\n",
        "        spin_start= samples[i-1].copy()\n",
        "        #print(i, samples[i-1]-samples[i-2])\n",
        "      for n in range(N_lattice): #number of possible flips\n",
        "        if n>0:\n",
        "          spin_start= samples[i].copy()\n",
        "        site= np.random.choice(N_lattice), np.random.choice(N_lattice)\n",
        "        pos_flip=spin_start.copy()\n",
        "        #print(pos_flip[site])\n",
        "        pos_flip[site]=-1*spin_start.copy()[site]\n",
        "        A= BoltzmannWeight(pos_flip, K, h)/BoltzmannWeight(spin_start, K, h)\n",
        "        A=np.min([1,A])\n",
        "        prob=np.random.rand(1,1)\n",
        "        #print(prob)\n",
        "        if prob <=A:\n",
        "          #print(samples[i]-pos_flip)\n",
        "          samples[i] = pos_flip\n",
        "          #print(A, 'flip')\n",
        "      # store the choice in samples\n",
        "        else:\n",
        "          samples[i] =spin_start\n",
        "          #print(A, prob, 'no flip')\n",
        "\n",
        "    return samples\n",
        "\n",
        "test= genSamples(3,1,1)\n"
      ]
    },
    {
      "cell_type": "code",
      "source": [
        "\n",
        "plt.matshow((test[0]), cmap=plt.cm.Blues)\n",
        "plt.colorbar()  # Add a colorbar to interpret the values\n",
        "plt.show()\n",
        "plt.matshow((test[1]), cmap=plt.cm.Blues)\n",
        "plt.colorbar()\n",
        "plt.show()\n",
        "print(test[0]-test[1])\n",
        "print(test[1]-test[2])"
      ],
      "metadata": {
        "colab": {
          "base_uri": "https://localhost:8080/",
          "height": 1000
        },
        "id": "OrikGLgvJkp4",
        "outputId": "a8e7b129-e44f-46d5-aba1-83c1acae72c7"
      },
      "id": "OrikGLgvJkp4",
      "execution_count": null,
      "outputs": [
        {
          "output_type": "display_data",
          "data": {
            "text/plain": [
              "<Figure size 480x480 with 2 Axes>"
            ],
            "image/png": "[encoded data removed]"
          },
          "metadata": {}
        },
        {
          "output_type": "display_data",
          "data": {
            "text/plain": [
              "<Figure size 480x480 with 2 Axes>"
            ],
            "image/png": "[encoded data removed]"
          },
          "metadata": {}
        },
        {
          "output_type": "stream",
          "name": "stdout",
          "text": [
            "[[0. 0. 0. ... 0. 0. 0.]\n",
            " [0. 0. 0. ... 0. 0. 0.]\n",
            " [0. 0. 0. ... 0. 0. 0.]\n",
            " ...\n",
            " [0. 0. 0. ... 0. 0. 0.]\n",
            " [0. 0. 0. ... 0. 0. 0.]\n",
            " [0. 0. 0. ... 0. 0. 0.]]\n",
            "[[0. 0. 0. ... 0. 0. 0.]\n",
            " [0. 0. 0. ... 0. 0. 0.]\n",
            " [0. 0. 0. ... 0. 0. 0.]\n",
            " ...\n",
            " [0. 0. 0. ... 0. 0. 0.]\n",
            " [0. 0. 0. ... 0. 0. 0.]\n",
            " [0. 0. 0. ... 0. 0. 0.]]\n"
          ]
        }
      ]
    },
    {
      "cell_type": "code",
      "source": [
        "def genSamples_hits(num_samples, K, h, T):\n",
        "    # number of sites in our 1D ising model\n",
        "    N_lattice = 10\n",
        "    samples = np.zeros([num_samples, N_lattice, N_lattice]) # where you will store your samples\n",
        "\n",
        "    for i in range((num_samples)):\n",
        "      if i==0:\n",
        "        #creat the lattice at \"time step 1\"\n",
        "        spin_start= np.ones([N_lattice, N_lattice])\n",
        "        samples[0]= spin_start\n",
        "      if i>0:\n",
        "        #samples[i]=samples[i-1]\n",
        "        spin_start= samples[i-1].copy()\n",
        "        #print(i, samples[i-1]-samples[i-2])\n",
        "      if i==1: #put the particle hit at time step 1\n",
        "        #samples[i]=spin_start\n",
        "        spin_start= samples[i-1].copy()\n",
        "        #print(i, samples[i-1]-samples[i-2])\n",
        "        hit_sitex=int(N_lattice/2)\n",
        "        hit_sitey=int(N_lattice/2)\n",
        "        #print(hit_sitex, hit_sitey)\n",
        "        spin_start[hit_sitex, hit_sitey]= -2\n",
        "        #print(spin_start)\n",
        "        # spin_start[hit_sitex-1, hit_sitey]= -1\n",
        "        # spin_start[hit_sitex, hit_sitey-1]= -1\n",
        "        # spin_start[hit_sitex-1, hit_sitey-1]= -1\n",
        "        #-1 because the bias h is positive (ground state =1)\n",
        "\n",
        "        nearest_neightbors= [[hit_sitex+1, hit_sitey],[hit_sitex, hit_sitey+1],[hit_sitex-1, hit_sitey],[hit_sitex, hit_sitey-1]]\n",
        "        pos_flip_nn=spin_start.copy()\n",
        "        for j in range(len(nearest_neightbors)):\n",
        "          #print(nearest_neightbors[j])\n",
        "          #spin_start= samples[i-1].copy()\n",
        "          pos_flip_nn[nearest_neightbors[j]]=-1*spin_start.copy()[nearest_neightbors[j]]\n",
        "          A= BoltzmannWeight(pos_flip_nn, K, h)/BoltzmannWeight(spin_start, K, h)\n",
        "          A=np.min([1,A])\n",
        "          prob_prop =np.random.rand(1,1)\n",
        "          if prob_prop <=A:\n",
        "          #print(samples[i]-pos_flip)\n",
        "            spin_start = pos_flip_nn\n",
        "            #print(A, nearest_neightbors[j], 'flip')\n",
        "      for n in range(N_lattice**2): #number of possible flips\n",
        "        if n>0:\n",
        "          spin_start= samples[i].copy()\n",
        "        site= np.random.choice(N_lattice), np.random.choice(N_lattice)\n",
        "        if i==1 and site== [hit_sitex, hit_sitey]:\n",
        "          site= np.random.choice(N_lattice), np.random.choice(N_lattice)\n",
        "        #define the flipped spin_start\n",
        "        pos_flip=spin_start.copy()\n",
        "        #print(pos_flip[site])\n",
        "        pos_flip[site]=-1*spin_start.copy()[site]\n",
        "\n",
        "        #determine probability of flip - random num gen >A dont flip, random num gen < A, flip\n",
        "        A= BoltzmannWeight(pos_flip, K, h)/BoltzmannWeight(spin_start, K, h)\n",
        "        A=np.min([1,A])\n",
        "        prob =np.random.rand(1,1)\n",
        "        noise_prob=0.01/T #noise increases as temperature increases\n",
        "\n",
        "        if prob <=A:\n",
        "          #print(samples[i]-pos_flip)\n",
        "          samples[i] = pos_flip\n",
        "          #print(A, site, 'flip')\n",
        "        if prob<=noise_prob and prob>A: #there is a nonzero chance of a flip even if it is not energetically favorable\n",
        "          #print(samples[i]-pos_flip)\n",
        "          samples[i] = pos_flip\n",
        "          print('noise')\n",
        "      # store the choice in samples\n",
        "        else:\n",
        "          samples[i] =spin_start\n",
        "          #print(A, prob, 'no flip')\n",
        "\n",
        "    return samples\n",
        "\n",
        "# n_samp=10\n",
        "# test= genSamples_hits(n_samp,1,1,1)\n",
        "# #print(test)\n",
        "# for i in range(n_samp):\n",
        "#   plt.matshow((test[i]), cmap=plt.cm.Blues)\n",
        "#   plt.colorbar()  # Add a colorbar to interpret the values\n",
        "#   plt.show()\n",
        "\n",
        "#print(test[0][0]-test[0][1])\n",
        "#print(test[0][1]-test[0][2])\n",
        "\n"
      ],
      "metadata": {
        "id": "FUIFSn3VNfOQ"
      },
      "id": "FUIFSn3VNfOQ",
      "execution_count": null,
      "outputs": []
    },
    {
      "cell_type": "code",
      "source": [
        "print(len(test))"
      ],
      "metadata": {
        "colab": {
          "base_uri": "https://localhost:8080/"
        },
        "id": "f4mRd1UgsAlh",
        "outputId": "814ca180-cd4a-45c1-a36f-b1bbc6394061"
      },
      "id": "f4mRd1UgsAlh",
      "execution_count": null,
      "outputs": [
        {
          "output_type": "stream",
          "name": "stdout",
          "text": [
            "2\n"
          ]
        }
      ]
    },
    {
      "cell_type": "code",
      "source": [
        "#now to try adding in K as a matrix, denoting bond strength, (different atoms are more or less easy to ionize)\n",
        "#more stable electron configurations (such as nobles) will be harder to ionize\n",
        "#larger atoms have their elctrons more loosely bound and are easier to ionize too\n",
        "\n",
        "def BoltzmannWeight_dopants(spins, K, h, T, dop_spacing):\n",
        "    sum=0\n",
        "\n",
        "    K_dop_val=2*K/T\n",
        "    K_reg_val=1*K/T\n",
        "    #assumes non periodic boundary conditions, should be fine to ignore in the large N limit\n",
        "    for i in range(len(spins)): #assumes spins is NxN matrix\n",
        "      for j in range(len(spins)):\n",
        "        if i == (len(spins)-1):\n",
        "          #sum+=((K*spins[len(spins)-1][j]*spins[0][j])) #periodic boundary conditions\n",
        "          sum+=((h*spins[len(spins)-1][j]))\n",
        "          #print(len(spins)-1,j, )\n",
        "          #print(spins[len(spins)-1][j])\n",
        "        if j == (len(spins)-1) and i != (len(spins)-1):\n",
        "          #sum+=((K*spins[i][len(spins)-1]*spins[i][0])) #periodic boundary conditions\n",
        "          sum+=((h*spins[i][len(spins)-1]))\n",
        "          #print(spins[i][len(spins)-1])\n",
        "        if i< len(spins)-1 and j<len(spins)-1:\n",
        "          #print(i,j)\n",
        "          if i % dop_spacing ==0 and j % dop_spacing ==0 and i !=0 and j != 0:\n",
        "            K=K_dop_val\n",
        "            sum+=((K*spins[i][j]*spins[i+1][j]))\n",
        "            sum+=((K*spins[i][j]*spins[i][j+1]))\n",
        "          if i+1 % dop_spacing ==0 and j % dop_spacing ==0 and i !=0 and j != 0:\n",
        "            K=K_dop_val\n",
        "            sum+=((K*spins[i][j]*spins[i+1][j]))\n",
        "            sum+=((K_reg_val*spins[i][j]*spins[i][j+1]))\n",
        "          if i % dop_spacing ==0 and j+1 % dop_spacing ==0 and i !=0 and j != 0:\n",
        "            K=K_dop_val\n",
        "            sum+=((K_reg_val*spins[i][j]*spins[i+1][j]))\n",
        "            sum+=((K*spins[i][j]*spins[i][j+1]))\n",
        "          else:\n",
        "            K=K_reg_val\n",
        "            sum+=((K*spins[i][j]*spins[i+1][j]))\n",
        "            sum+=((K*spins[i][j]*spins[i][j+1]))\n",
        "            #sum+=((K*spins[i][j]*spins[i-1][j]))\n",
        "            #sum+=((K*spins[i][j]*spins[i][j-1]))\n",
        "            sum+=((h*spins[i][j]))\n",
        "            #print(sum)\n",
        "    #print(sum)\n",
        "    BW=(sum)\n",
        "    return BW\n",
        "\n",
        "#here I make N large enough that the boundaries do not matter so it is ok that the edges are not included in this weight\n",
        "#spins_test= np.ones([4,4])\n",
        "#print(range(len((spins_test))))\n",
        "#print(len(spins_test))\n",
        "#print('')\n",
        "\n",
        "# K=np.ones([N_lattice, N_lattice]) #start with ones\n",
        "# #add in dopants every n spacings\n",
        "# n=4\n",
        "# for i in range(N_lattice):\n",
        "#   for j in range(N_lattice):\n",
        "#     if i % 4 ==0 and j %4 ==0 and i !=0 and j != 0:\n",
        "#       K[i][j]=2\n",
        "#       K[i+1][j]=2\n",
        "#       K[i][j+1]=2\n",
        "#       K[i+1][j+1]=2\n",
        "# print(K)\n",
        "\n",
        "\n",
        "#print(BoltzmannWeight(spins_test,1, 1), BoltzmannWeight_dopants(spins_test, K, 1))\n",
        "#\n",
        "\n"
      ],
      "metadata": {
        "id": "aXyr-fL2MIWo"
      },
      "id": "aXyr-fL2MIWo",
      "execution_count": null,
      "outputs": []
    },
    {
      "cell_type": "code",
      "source": [
        "def BoltzmannWeight_local(spins, sitex, sitey, K, h, T, dop_spacing):\n",
        "  sum=0\n",
        "\n",
        "  K_dop_val=2*K/T\n",
        "  K_reg_val=1*K/T\n",
        "    #assumes non periodic boundary conditions, should be fine to ignore in the large N limit\n",
        "  if sitex % dop_spacing ==0 and sitey % dop_spacing ==0:\n",
        "    K=K_dop_val\n",
        "  else:\n",
        "    K=K_reg_val\n",
        "  if sitex == (len(spins)-1)  and sitey != len(spins)-1  and sitey !=0:\n",
        "    #sum+=((K*spins[sitex][sitey]*spins[sitex+1][sitey]))\n",
        "    sum+=((K*spins[sitex][sitey]*spins[sitex-1][sitey]))\n",
        "    sum+=((K*spins[sitex][sitey]*spins[sitex][sitey+1]))\n",
        "    sum+=((K*spins[sitex][sitey]*spins[sitex][sitey-1]))\n",
        "  if sitey == len(spins)-1  and sitex != len(spins)-1 and sitex !=0:\n",
        "    sum+=((K*spins[sitex][sitey]*spins[sitex+1][sitey]))\n",
        "    sum+=((K*spins[sitex][sitey]*spins[sitex-1][sitey]))\n",
        "    #sum+=((K*spins[sitex][sitey]*spins[sitex][sitey+1]))\n",
        "    sum+=((K*spins[sitex][sitey]*spins[sitex][sitey-1]))\n",
        "  if sitex ==0  and sitey != len(spins)-1 and sitey !=0:\n",
        "    sum+=((K*spins[sitex][sitey]*spins[sitex+1][sitey]))\n",
        "    #sum+=((K*spins[sitex][sitey]*spins[sitex-1][sitey]))\n",
        "    sum+=((K*spins[sitex][sitey]*spins[sitex][sitey+1]))\n",
        "    sum+=((K*spins[sitex][sitey]*spins[sitex][sitey-1]))\n",
        "  if sitey==0 and sitex != len(spins)-1 and sitex !=0:\n",
        "    sum+=((K*spins[sitex][sitey]*spins[sitex+1][sitey]))\n",
        "    sum+=((K*spins[sitex][sitey]*spins[sitex-1][sitey]))\n",
        "    sum+=((K*spins[sitex][sitey]*spins[sitex][sitey+1]))\n",
        "    #sum+=((K*spins[sitex][sitey]*spins[sitex][sitey-1]))\n",
        "  if sitex != len(spins)-1 and sitey != len(spins)-1 and sitex !=0 and sitey !=0:\n",
        "    sum+=((K*spins[sitex][sitey]*spins[sitex+1][sitey]))\n",
        "    sum+=((K*spins[sitex][sitey]*spins[sitex-1][sitey]))\n",
        "    sum+=((K*spins[sitex][sitey]*spins[sitex][sitey+1]))\n",
        "    sum+=((K*spins[sitex][sitey]*spins[sitex][sitey-1]))\n",
        "\n",
        "  sum+=((h*spins[sitex][sitey]))\n",
        "            #print(sum)\n",
        "    #print(sum)\n",
        "  BW=np.exp(sum)\n",
        "  return BW\n"
      ],
      "metadata": {
        "id": "T8ApZ4M-XhSi"
      },
      "id": "T8ApZ4M-XhSi",
      "execution_count": 3,
      "outputs": []
    },
    {
      "cell_type": "code",
      "source": [
        "#BoltzmannWeight_dopants(spins_test, K, 1,100000000, 4)"
      ],
      "metadata": {
        "id": "rXwtOkqWCK9e"
      },
      "id": "rXwtOkqWCK9e",
      "execution_count": null,
      "outputs": []
    },
    {
      "cell_type": "code",
      "source": [
        "# temp=np.linspace(1,2,100)\n",
        "\n",
        "# for _ in range(len(temp)):\n",
        "#   plt.scatter(temp[_], BoltzmannWeight_dopants(spins_test, K, 1,temp[_]), color= 'blue')\n",
        "\n",
        "# plt.xlabel('temperature [a.u.]')\n",
        "# plt.ylabel('Boltzmann weight')\n",
        "# plt.show()\n",
        "\n"
      ],
      "metadata": {
        "id": "fVXjoqBfCtfd"
      },
      "id": "fVXjoqBfCtfd",
      "execution_count": null,
      "outputs": []
    },
    {
      "cell_type": "code",
      "source": [
        "def genSamples_hits_dopants(N_lattice, num_samples, K, h, T, dop_spacing):\n",
        "    # number of sites in our 1D ising model\n",
        "    #N_lattice = 12\n",
        "    samples = np.zeros([num_samples, N_lattice, N_lattice]) # where you will store your samples\n",
        "\n",
        "    for i in range((num_samples)):\n",
        "      if i==0:\n",
        "        #creat the lattice at \"time step 1\"\n",
        "        spin_start= np.ones([N_lattice, N_lattice])\n",
        "        #pos_flip=np.zeros([N_lattice, N_lattice])\n",
        "        #spin_start= np.random.choice([-1,1], [N_lattice, N_lattice]) #starting arbitrary set of spins\n",
        "        #spin_start= np.zeros([N_lattice, N_lattice])\n",
        "      #pick random site\n",
        "        samples[0]= spin_start\n",
        "      if i>0:\n",
        "        #samples[i]=samples[i-1]\n",
        "        spin_start= samples[i-1].copy()\n",
        "        #print(i, samples[i-1]-samples[i-2])\n",
        "      if i==1: #put the particle hit at time step 1\n",
        "        #samples[i]=spin_start\n",
        "        spin_start= samples[i-1].copy()\n",
        "        #print(i, samples[i-1]-samples[i-2])\n",
        "        hit_sitex=int(N_lattice/2)\n",
        "        hit_sitey=int(N_lattice/2)\n",
        "        #print(hit_sitex, hit_sitey)\n",
        "        spin_start[hit_sitex, hit_sitey]= -2\n",
        "        samples[i]=spin_start\n",
        "      # if i>=1:\n",
        "      #   nearest_neightbors= [[hit_sitex+1, hit_sitey],[hit_sitex, hit_sitey+1],[hit_sitex-1, hit_sitey],[hit_sitex, hit_sitey-1]]\n",
        "      #   pos_flip_nn=spin_start.copy()\n",
        "      #   for j in range(len(nearest_neightbors)):\n",
        "      #     #print('nearest', nearest_neightbors[j])\n",
        "      #     #spin_start= samples[i-1].copy()\n",
        "      #     pos_flip_nn[nearest_neightbors[j]]=-1*spin_start.copy()[nearest_neightbors[j]]\n",
        "      #     A= BoltzmannWeight_local(pos_flip_nn, nearest_neightbors[j][0], nearest_neightbors[j][1], K, h, T, dop_spacing)/BoltzmannWeight_local(spin_start, nearest_neightbors[j][0], nearest_neightbors[j][1], K, h, T, dop_spacing)\n",
        "      #     A=np.min([1,A])\n",
        "      #     prob_prop =np.random.rand(1,1)\n",
        "      #     if prob_prop <=A:\n",
        "      #     #print(samples[i]-pos_flip)\n",
        "      #       samples[i] = pos_flip_nn.copy()\n",
        "      #       print('flip', i)\n",
        "      #     else:\n",
        "      #       samples[i]=spin_start.copy()\n",
        "      #       print('no flip', i)\n",
        "\n",
        "      for n in range(N_lattice): #number of possible flips\n",
        "        #spin_start= samples[i]\n",
        "\n",
        "        site= np.random.choice(N_lattice), np.random.choice(N_lattice)\n",
        "        if i==1 and site== (hit_sitex, hit_sitey):\n",
        "          site= np.random.choice(N_lattice), np.random.choice(N_lattice)\n",
        "        #print(i, spin_start[site])\n",
        "        #define the flipped spin_start\n",
        "        pos_flip=spin_start.copy()\n",
        "        #print(pos_flip[site])\n",
        "        if pos_flip[site]==1:\n",
        "          pos_flip[site]=-1\n",
        "        else:\n",
        "          pos_flip[site]=1\n",
        "        #pos_flip[site]=-1*spin_start.copy()[site]\n",
        "\n",
        "        #determine probability of flip - random num gen >A dont flip, random num gen < A, flip\n",
        "        A= BoltzmannWeight_local(pos_flip, site[0], site[1], K, h, T, dop_spacing)/BoltzmannWeight_local(spin_start, site[0], site[1], K, h, T, dop_spacing)\n",
        "        A=np.min([1,A])\n",
        "        #print(A, BoltzmannWeight_dopants(pos_flip, K, h, T, dop_spacing), BoltzmannWeight_dopants(spin_start, K, h, T, dop_spacing))\n",
        "        #print(n, A)\n",
        "        prob =np.random.rand(1,1)\n",
        "        noise_prob=0.01*T #noise increases as temperature increases\n",
        "\n",
        "        #print(prob, noise_prob, A\n",
        "        #print(prob, noise_prob, A)\n",
        "        #print(prob)\n",
        "        if prob <=A:\n",
        "          #print(samples[i]-pos_flip)\n",
        "          #print(pos_flip[site]-spin_start[site])\n",
        "          spin_start = pos_flip\n",
        "          #print(i, n, A, site, 'flip')\n",
        "          #print(pos_flip-spin_start)\n",
        "          #print(pos_flip[site]-spin_start[site])\n",
        "          #print(BoltzmannWeight_local(pos_flip, site[0], site[1], K, h, T, dop_spacing), BoltzmannWeight_local(spin_start, site[0], site[1], K, h, T, dop_spacing))\n",
        "\n",
        "        if prob<=noise_prob and prob>A: #there is a nonzero chance of a flip even if it is not energetically favorable\n",
        "          #print(samples[i]-pos_flip)\n",
        "          spin_start = pos_flip\n",
        "          #print(A, 'noise')\n",
        "      # store the choice in samples\n",
        "        else:\n",
        "          spin_start =spin_start\n",
        "          #print(A, prob, 'no flip')\n",
        "      samples[i]=spin_start\n",
        "    return samples"
      ],
      "metadata": {
        "id": "Yi0ytgmWEdN2"
      },
      "id": "Yi0ytgmWEdN2",
      "execution_count": 4,
      "outputs": []
    },
    {
      "cell_type": "code",
      "source": [
        "#temp=np.linspace(1,1.5,10)\n",
        "N_lattice = 30\n",
        "\n",
        "n_samp=50\n",
        "K=1\n",
        "\n",
        "test_dop_hits= genSamples_hits_dopants(N_lattice,n_samp, K, 1, 1, 5)\n",
        "\n",
        "#print(len(test_dop_hits))"
      ],
      "metadata": {
        "id": "H7GOHP49G5bC"
      },
      "id": "H7GOHP49G5bC",
      "execution_count": 5,
      "outputs": []
    },
    {
      "cell_type": "code",
      "source": [
        "from matplotlib.animation import FuncAnimation\n",
        "fig, ax = plt.subplots(figsize=(N_lattice, N_lattice))\n",
        "ax.set(xlim=(0,N_lattice ), ylim=(0, N_lattice))\n",
        "\n",
        "cax = ax.pcolormesh(test_dop_hits[0],vmin=-2, vmax=1, cmap=plt.cm.Blues)\n",
        "fig.colorbar(cax)\n",
        "#plt.show()\n",
        "\n",
        "\n",
        "def animate(i):\n",
        "     cax.set_array(test_dop_hits[i].flatten())\n",
        "     #print(i)\n",
        "     #ax.text(0.05, 0.95, f'Time step: {i}', transform=ax.transAxes, va='top')\n",
        "     #plt.suptitle(i)\n",
        "     #cbar.set_title(f'Frame {i}')\n",
        "     #ax.clear()\n",
        "     ax.set_title(f\"time = {i}, temp= 1\", fontsize=60)\n",
        "     #ttl = ax.text(0.5, 1.005, i, transform = ax.transAxes, va='center', fontsize= 'medium')\n",
        "     return cax\n",
        "\n",
        "\n",
        "anim = FuncAnimation(fig, animate, interval=400, frames=(n_samp))\n",
        "\n",
        "#plt.show()\n",
        "#anim.save('test.mp4')\n",
        "#anim.save('test.gif', writer='imagemagick')\n",
        "anim.save('Ising_model_detector.gif', writer = \"pillow\", fps=5 )"
      ],
      "metadata": {
        "colab": {
          "base_uri": "https://localhost:8080/",
          "height": 847
        },
        "id": "Lf4D-0hMNasG",
        "outputId": "f969fbb2-01c0-4651-c8e1-d406c49decfa"
      },
      "id": "Lf4D-0hMNasG",
      "execution_count": 26,
      "outputs": [
        {
          "output_type": "display_data",
          "data": {
            "text/plain": [
              "<Figure size 3000x3000 with 2 Axes>"
            ],
            "image/png": "[encoded data removed]"
          },
          "metadata": {}
        }
      ]
    },
    {
      "cell_type": "code",
      "source": [
        "# for i in range(n_samp):\n",
        "#   plt.matshow((test_dop_hits[i]), cmap=plt.cm.Blues)\n",
        "#   plt.colorbar()  # Add a colorbar to interpret the values\n",
        "#   plt.show()"
      ],
      "metadata": {
        "id": "69j_AItdLD0B"
      },
      "id": "69j_AItdLD0B",
      "execution_count": null,
      "outputs": []
    },
    {
      "cell_type": "code",
      "execution_count": null,
      "id": "2fa1e410-0f10-42d2-a78d-97dc9ab7a035",
      "metadata": {
        "id": "2fa1e410-0f10-42d2-a78d-97dc9ab7a035",
        "colab": {
          "base_uri": "https://localhost:8080/",
          "height": 449
        },
        "outputId": "e3bbbec0-b6fb-4b95-e517-fc0e4891d130"
      },
      "outputs": [
        {
          "output_type": "display_data",
          "data": {
            "text/plain": [
              "<Figure size 640x480 with 1 Axes>"
            ],
            "image/png": "[encoded data removed]"
          },
          "metadata": {}
        }
      ],
      "source": [
        "def magnetization(spins):\n",
        "    #magnetization is the average spin, so here we can simply sum over all spins to see if it is + or -\n",
        "    mag= np.sum(spins)\n",
        "    return mag\n",
        "    return -1\n",
        "\n",
        "magnetization(test[0])\n",
        "\n",
        "for i in range(len(test)):\n",
        "  plt.scatter(i, magnetization(test[i]))\n",
        "\n",
        "plt.xlabel('time [a.u.]')\n",
        "plt.ylabel('magnetization equivalent/atoms ionized [a.u.]')\n",
        "plt.show()\n"
      ]
    },
    {
      "cell_type": "code",
      "source": [],
      "metadata": {
        "colab": {
          "base_uri": "https://localhost:8080/"
        },
        "id": "aeJcb_4pK3pJ",
        "outputId": "3d137f4b-79d2-411e-b639-b078fa21ac0a"
      },
      "id": "aeJcb_4pK3pJ",
      "execution_count": null,
      "outputs": [
        {
          "metadata": {
            "tags": null
          },
          "name": "stdout",
          "output_type": "stream",
          "text": [
            "[[1. 1. 1. ... 1. 1. 1.]\n",
            " [1. 1. 1. ... 1. 1. 1.]\n",
            " [1. 1. 1. ... 1. 1. 1.]\n",
            " ...\n",
            " [1. 1. 1. ... 1. 1. 1.]\n",
            " [1. 1. 1. ... 1. 1. 1.]\n",
            " [1. 1. 1. ... 1. 1. 1.]]\n"
          ]
        }
      ]
    },
    {
      "cell_type": "code",
      "source": [],
      "metadata": {
        "id": "UloSBNOyI_hl"
      },
      "id": "UloSBNOyI_hl",
      "execution_count": null,
      "outputs": []
    },
    {
      "cell_type": "code",
      "source": [
        "#spin spin correlation"
      ],
      "metadata": {
        "id": "ZoO3xrYpJVaf"
      },
      "id": "ZoO3xrYpJVaf",
      "execution_count": null,
      "outputs": []
    },
    {
      "cell_type": "code",
      "source": [
        "#add in impurities and set the ground state closer to neutral\n",
        "#run random flips in parallel with a hit on the detecotor, which causes nearby flips"
      ],
      "metadata": {
        "id": "1Lsq8q3rJXSP"
      },
      "id": "1Lsq8q3rJXSP",
      "execution_count": null,
      "outputs": []
    }
  ],
  "metadata": {
    "colab": {
      "provenance": [],
      "include_colab_link": true
    },
    "kernelspec": {
      "display_name": "Python 3 (ipykernel)",
      "language": "python",
      "name": "python3"
    },
    "language_info": {
      "codemirror_mode": {
        "name": "ipython",
        "version": 3
      },
      "file_extension": ".py",
      "mimetype": "text/x-python",
      "name": "python",
      "nbconvert_exporter": "python",
      "pygments_lexer": "ipython3",
      "version": "3.12.2"
    }
  },
  "nbformat": 4,
  "nbformat_minor": 5
}